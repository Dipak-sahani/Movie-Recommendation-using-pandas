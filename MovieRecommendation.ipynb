{
 "cells": [
  {
   "cell_type": "code",
   "execution_count": 9,
   "id": "e358f27b-2176-4680-bfbb-a3926a96fe10",
   "metadata": {},
   "outputs": [],
   "source": [
    "import pandas as pd\n",
    "\n",
    "# dataset with movies for every mood and time\n",
    "data = {\n",
    "    \"Movie\": [\n",
    "        \"3 Idiots\", \"Dangal\", \"Zindagi Na Milegi Dobara\", \"PK\", \"Dil Chahta Hai\", \n",
    "        \"Gully Boy\", \"Tumbbad\", \"RRR\", \"Baahubali\", \"Queen\", \"Barfi\", \n",
    "        \"Drishyam\", \"Kahaani\", \"Lagaan\", \"Swades\", \"Chhichhore\", \"Stree\", \n",
    "        \"Padmaavat\", \"Piku\", \"Article 15\", \"Udaan\", \"The Lunchbox\", \"Bajrangi Bhaijaan\",\n",
    "        \"Jaane Tu Ya Jaane Na\", \"Badhaai Ho\", \"Sholay\", \"Tamasha\", \"Dear Zindagi\",\n",
    "        \"Secret Superstar\", \"Bhediya\"\n",
    "    ],\n",
    "    \"Genre\": [\n",
    "        \"Comedy, Drama\", \"Drama, Inspirational\", \"Comedy, Adventure\", \n",
    "        \"Comedy, Sci-Fi\", \"Romance, Comedy\", \"Drama, Musical\", \n",
    "        \"Horror, Thriller\", \"Action, Historical\", \"Action, Adventure\", \n",
    "        \"Drama, Comedy\", \"Drama, Romance\", \"Thriller, Mystery\", \n",
    "        \"Mystery, Thriller\", \"Drama, Historical\", \"Drama, Inspirational\",\n",
    "        \"Comedy, Drama\", \"Horror, Comedy\", \"Drama, Historical\", \n",
    "        \"Drama, Comedy\", \"Drama, Thriller\", \"Drama, Inspirational\",\n",
    "        \"Drama, Romance\", \"Comedy, Drama\", \"Romance, Comedy\",\n",
    "        \"Comedy, Drama\", \"Action, Drama\", \"Romance, Drama\", \n",
    "        \"Drama, Inspirational\", \"Drama, Musical\", \"Fantasy, Comedy\"\n",
    "    ],\n",
    "    \"Duration\": [\n",
    "        170, 161, 153, 152, 183, 154, 113, 182, 159, 146, 151, 140, 122, 224, 210,\n",
    "        143, 128, 164, 110, 130, 140, 105, 163, 152, 178, 139, 150, 149, 132, 156\n",
    "    ],\n",
    "    \"Mood\": [\n",
    "        \"Happy\", \"Sad\", \"Happy\", \"Happy\", \"Happy\", \"Sad\", \n",
    "        \"Excited\", \"Excited\", \"Excited\", \"Happy\", \"Relaxed\", \n",
    "        \"Excited\", \"Excited\", \"Relaxed\", \"Sad\", \"Happy\", \n",
    "        \"Excited\", \"Sad\", \"Relaxed\", \"Sad\", \"Sad\", \"Relaxed\", \n",
    "        \"Happy\", \"Happy\", \"Excited\", \"Relaxed\", \"Sad\", \n",
    "        \"Relaxed\", \"Happy\", \"Excited\"\n",
    "    ]\n",
    "}\n",
    "\n",
    "df = pd.DataFrame(data)\n"
   ]
  },
  {
   "cell_type": "code",
   "execution_count": 27,
   "id": "a69839c6-9f65-48f2-a764-d125b27acfed",
   "metadata": {},
   "outputs": [
    {
     "name": "stdout",
     "output_type": "stream",
     "text": [
      "\n",
      "No specific recommendations for Mood: Sad | Time: Night.\n",
      "Fallback Recommendation (no time restriction):\n",
      "    Movie                 Genre  Duration\n",
      "1  Dangal  Drama, Inspirational       161\n"
     ]
    }
   ],
   "source": [
    "def recommend_movies(mood, time_of_day):\n",
    "    # Filter movies by mood\n",
    "    mood_based_movies = df[df[\"Mood\"] == mood]\n",
    "    \n",
    "    # recommendations based on time of day\n",
    "    if time_of_day == \"Morning\":\n",
    "        recommendations = mood_based_movies[mood_based_movies[\"Duration\"] <= 90]\n",
    "    elif time_of_day == \"Afternoon\":\n",
    "        recommendations = mood_based_movies[\n",
    "            (mood_based_movies[\"Duration\"] > 90) & (mood_based_movies[\"Duration\"] <= 150)\n",
    "        ]\n",
    "    elif time_of_day == \"Evening\":\n",
    "        recommendations = mood_based_movies  # All movies for the mood\n",
    "    elif time_of_day == \"Night\":\n",
    "        recommendations = mood_based_movies[mood_based_movies[\"Duration\"] <= 120]\n",
    "    else:\n",
    "        print(\"Invalid time of day!\")\n",
    "        return\n",
    "    \n",
    "    # cases where no movies are available\n",
    "    if recommendations.empty:\n",
    "        # Fallback: Recommend any movie for the selected mood, while adhering to time-of-day restrictions\n",
    "        fallback = mood_based_movies.head(1)\n",
    "        if fallback.empty:\n",
    "            print(f\"\\nNo movies available for Mood: {mood} | Time: {time_of_day}.\")\n",
    "        else:\n",
    "            print(f\"\\nNo specific recommendations for Mood: {mood} | Time: {time_of_day}.\")\n",
    "            print(\"Fallback Recommendation (no time restriction):\")\n",
    "            print(fallback[[\"Movie\", \"Genre\", \"Duration\"]])\n",
    "    else:\n",
    "        print(f\"\\nMovies Recommended for Mood: {mood} | Time of Day: {time_of_day}\")\n",
    "        print(recommendations[[\"Movie\", \"Genre\", \"Duration\"]])\n",
    "\n",
    "# Test the function with \"Sad\" mood and \"Night\"\n",
    "recommend_movies(\"Sad\", \"Night\")\n"
   ]
  },
  {
   "cell_type": "code",
   "execution_count": 29,
   "id": "32ce0c9d-3231-45b8-abcf-8236d8a5272a",
   "metadata": {},
   "outputs": [
    {
     "name": "stdout",
     "output_type": "stream",
     "text": [
      "\n",
      "No specific recommendations for Mood: Sad | Time: Night.\n",
      "Fallback Recommendation (no time restriction):\n",
      "    Movie                 Genre  Duration\n",
      "1  Dangal  Drama, Inspirational       161\n"
     ]
    }
   ],
   "source": [
    "# Test the function\n",
    "recommend_movies(\"Sad\", \"Night\")  # Short sad movies for night-time\n"
   ]
  },
  {
   "cell_type": "code",
   "execution_count": 31,
   "id": "8175c535-97ad-465e-85eb-771e88212e80",
   "metadata": {},
   "outputs": [
    {
     "name": "stdout",
     "output_type": "stream",
     "text": [
      "\n",
      "No specific recommendations for Mood: Sad | Time: Morning.\n",
      "Fallback Recommendation (no time restriction):\n",
      "    Movie                 Genre  Duration\n",
      "1  Dangal  Drama, Inspirational       161\n"
     ]
    }
   ],
   "source": [
    "recommend_movies(\"Sad\", \"Morning\") "
   ]
  },
  {
   "cell_type": "code",
   "execution_count": 33,
   "id": "ea9848f7-7174-40a3-a705-8b024cb5ffd2",
   "metadata": {},
   "outputs": [
    {
     "name": "stdout",
     "output_type": "stream",
     "text": [
      "\n",
      "Movies Recommended for Mood: Sad | Time of Day: Evening\n",
      "         Movie                 Genre  Duration\n",
      "1       Dangal  Drama, Inspirational       161\n",
      "5    Gully Boy        Drama, Musical       154\n",
      "14      Swades  Drama, Inspirational       210\n",
      "17   Padmaavat     Drama, Historical       164\n",
      "19  Article 15       Drama, Thriller       130\n",
      "20       Udaan  Drama, Inspirational       140\n",
      "26     Tamasha        Romance, Drama       150\n"
     ]
    }
   ],
   "source": [
    "recommend_movies(\"Sad\", \"Evening\")"
   ]
  },
  {
   "cell_type": "code",
   "execution_count": null,
   "id": "c57e659c-442b-495f-ad4e-b7ab2bc25d3e",
   "metadata": {},
   "outputs": [],
   "source": []
  }
 ],
 "metadata": {
  "kernelspec": {
   "display_name": "Python 3 (ipykernel)",
   "language": "python",
   "name": "python3"
  },
  "language_info": {
   "codemirror_mode": {
    "name": "ipython",
    "version": 3
   },
   "file_extension": ".py",
   "mimetype": "text/x-python",
   "name": "python",
   "nbconvert_exporter": "python",
   "pygments_lexer": "ipython3",
   "version": "3.12.7"
  }
 },
 "nbformat": 4,
 "nbformat_minor": 5
}
